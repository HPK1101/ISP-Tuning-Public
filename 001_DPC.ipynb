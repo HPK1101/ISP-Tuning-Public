{
  "nbformat": 4,
  "nbformat_minor": 0,
  "metadata": {
    "colab": {
      "provenance": []
    },
    "kernelspec": {
      "name": "python3",
      "display_name": "Python 3"
    },
    "language_info": {
      "name": "python"
    }
  },
  "cells": [
    {
      "cell_type": "code",
      "source": [
        "!pip install rawpy imageio exifread\n",
        "\n",
        "from google.colab import files\n",
        "uploaded = files.upload()"
      ],
      "metadata": {
        "id": "mxnLWLbiyLqI"
      },
      "execution_count": null,
      "outputs": []
    },
    {
      "cell_type": "code",
      "source": [
        "# Finding defective pixel by pixel to pixel itteration (slow)\n",
        "\n",
        "import rawpy\n",
        "import numpy as np\n",
        "from PIL import Image\n",
        "import cv2\n",
        "\n",
        "################################################################################\n",
        "def load_image(file_name= 'a0151-JI2E3955.dng', sample_size = 100):\n",
        "    \"\"\"\n",
        "    \"\"\"\n",
        "\n",
        "    with rawpy.imread(file_name) as raw:\n",
        "        pattern = raw.raw_pattern\n",
        "        bayer_img = raw.raw_image_visible\n",
        "        color_map = {0: 'R', 1: 'G', 2: 'B', 3: 'G'}\n",
        "        named_pattern = np.vectorize(color_map.get)(pattern)\n",
        "        print(named_pattern)\n",
        "\n",
        "        # select sample section of the image\n",
        "        H, W = bayer_img.shape\n",
        "        CY, CX = H//2, W//2\n",
        "        sample = bayer_img[CY:CY+sample_size, CX:CX+sample_size]\n",
        "\n",
        "        # Convert embedded thumbnail to NumPy array\n",
        "        thumbnail = raw.extract_thumb()\n",
        "        print(thumbnail.format) # we this later\n",
        "        if thumbnail.format == rawpy.ThumbFormat.JPEG:\n",
        "            img = Image.open(io.BytesIO(thumbnail.data))\n",
        "            thumbnail_np = np.array(img.convert(\"L\"))  # convert to grayscale\n",
        "        elif thumbnail.format == rawpy.ThumbFormat.BITMAP:\n",
        "            thumbnail_np = np.array(thumbnail.data)\n",
        "        else:\n",
        "            raise ValueError(\"Unknown thumbnail format\")\n",
        "\n",
        "    return bayer_img, sample, thumbnail_np\n",
        "\n",
        "################################################################################\n",
        "def get_neighbors_RGGB(img, y, x, offset = 4) :\n",
        "\n",
        "    \"\"\"\n",
        "    Finds the neighboring pixels for a given pixel in a Bayer image.\n",
        "    \"\"\"\n",
        "    H, W = img.shape\n",
        "\n",
        "    if offset == 8:\n",
        "        offset_list = [(-4,0), (-2,0), (2,0), (4,0), (-2,-2), (-2,2), (2,2), (2,-2)]\n",
        "    else:\n",
        "        offset_list = [(-2,0), (0,-2), (2,0), (0,2)]\n",
        "\n",
        "    neighbors = []\n",
        "    for dx, dy in offset_list:\n",
        "        ny, nx = y + dy, x + dx\n",
        "        if 0 <= ny < H and 0 <= nx < W:\n",
        "            neighbors.append(bayer_img[ny, nx])\n",
        "\n",
        "    return neighbors\n",
        "\n",
        "################################################################################\n",
        "def DPC(bayer_img, threshold= 50, offset = 4):\n",
        "    \"\"\"\n",
        "    Detects and corrects defective pixels in a raw Bayer image.\n",
        "\n",
        "    Parameters:\n",
        "        bayer_img (np.ndarray): 2D Bayer image (grayscale).\n",
        "        threshold (int): intensity difference threshold for detecting outliers.\n",
        "\n",
        "    Returns:\n",
        "        corrected_img (np.ndarray): image with defective pixels corrected.\n",
        "        num_defective (int): number of defective pixels found and corrected.\n",
        "    \"\"\"\n",
        "    H, W = bayer_img.shape\n",
        "    corrected_img = bayer_img.copy()\n",
        "    num_defective = 0\n",
        "    defective_mask = np.zeros_like(bayer_img, dtype=bool)\n",
        "\n",
        "    margin = 4 if offset == 8 else 2\n",
        "    for y in range(margin, H - margin):\n",
        "        for x in range(margin, W - margin):\n",
        "            neighbors = get_neighbors_RGGB(bayer_img, y, x, offset)\n",
        "            medial_val = np.median(neighbors)\n",
        "            if abs(bayer_img[y,x] - medial_val) > threshold:\n",
        "                corrected_img[y, x] = int(np.mean(neighbors))\n",
        "                num_defective += 1\n",
        "                defective_mask[y,x] = True\n",
        "\n",
        "    return corrected_img.astype(np.uint16), num_defective, defective_mask"
      ],
      "metadata": {
        "id": "LPtvHtWcygyi"
      },
      "execution_count": null,
      "outputs": []
    },
    {
      "cell_type": "code",
      "source": [
        "import matplotlib.pyplot as plt\n",
        "import cv2\n",
        "import numpy as np # Import numpy\n",
        "from PIL import Image # Import PIL Image\n",
        "import io # Import io\n",
        "\n",
        "bayer_img, sample, thumbnail = load_image(file_name= 'a0151-JI2E3955.dng', sample_size= 200)\n",
        "\n",
        "fixed_img, count, mask = DPC(sample, threshold= 80, offset = 4)\n",
        "print('Defective pixels found= ', count)\n",
        "\n",
        "fig, axes = plt.subplots(1, 3, figsize=(15, 5))\n",
        "axes[0].imshow(sample, cmap='gray')\n",
        "axes[0].set_title('Original Image Sample')\n",
        "\n",
        "axes[1].imshow(mask, cmap='gray')\n",
        "axes[1].set_title('DFC Mask')\n",
        "\n",
        "axes[2].imshow(thumbnail, cmap='gray')\n",
        "axes[2].set_title('Thumbnail')\n",
        "\n",
        "for ax in axes:\n",
        "    ax.axis('off')\n",
        "plt.show()"
      ],
      "metadata": {
        "id": "y5CUUel95gRy"
      },
      "execution_count": null,
      "outputs": []
    },
    {
      "cell_type": "code",
      "source": [
        "import numpy as np\n",
        "import cv2\n",
        "\n",
        "def fast_DPC(bayer_img, threshold=50, ksize=3):\n",
        "    \"\"\"\n",
        "    Fast defective pixel correction using median filtering.\n",
        "    Applies a median filter and replaces outliers based on a threshold.\n",
        "\n",
        "    Parameters:\n",
        "        bayer_img (np.ndarray): 2D Bayer image.\n",
        "        threshold (int): Pixel difference threshold.\n",
        "        ksize (int): Median filter kernel size (must be odd).\n",
        "\n",
        "    Returns:\n",
        "        corrected_img, num_defective, defect_mask\n",
        "    \"\"\"\n",
        "    assert ksize % 2 == 1, \"ksize must be odd\"\n",
        "\n",
        "    # Step 1: Compute median image\n",
        "    median_img = cv2.medianBlur(bayer_img, ksize)\n",
        "\n",
        "    # Step 2: Identify defective pixels\n",
        "    diff = np.abs(bayer_img.astype(np.int16) - median_img.astype(np.int16))\n",
        "    defect_mask = diff > threshold\n",
        "\n",
        "    # Step 3: Replace defects with median\n",
        "    corrected_img = bayer_img.copy()\n",
        "    corrected_img[defect_mask] = median_img[defect_mask]\n",
        "\n",
        "    num_defective = np.sum(defect_mask)\n",
        "\n",
        "    return corrected_img.astype(np.uint16), num_defective, defect_mask"
      ],
      "metadata": {
        "id": "Omj9FWoyIH3k"
      },
      "execution_count": null,
      "outputs": []
    },
    {
      "cell_type": "code",
      "source": [
        "bayer_img, sample, thumbnail = load_image(file_name= 'a0151-JI2E3955.dng')\n",
        "\n",
        "corrected, count, mask = fast_DPC(sample, threshold=80, ksize=3)\n",
        "print(\"Defective pixels corrected:\", count)"
      ],
      "metadata": {
        "id": "D2f0JakBITxr"
      },
      "execution_count": null,
      "outputs": []
    }
  ]
}