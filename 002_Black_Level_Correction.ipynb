{
  "nbformat": 4,
  "nbformat_minor": 0,
  "metadata": {
    "colab": {
      "provenance": []
    },
    "kernelspec": {
      "name": "python3",
      "display_name": "Python 3"
    },
    "language_info": {
      "name": "python"
    }
  },
  "cells": [
    {
      "cell_type": "code",
      "execution_count": null,
      "metadata": {
        "id": "gFn2OOeC3ww9"
      },
      "outputs": [],
      "source": [
        "!pip install rawpy imageio exifread\n",
        "\n",
        "import numpy as np\n",
        "import matplotlib.pyplot as plt\n",
        "\n",
        "from google.colab import files\n",
        "uploaded = files.upload()"
      ]
    },
    {
      "cell_type": "code",
      "source": [
        "import rawpy\n",
        "import matplotlib.pyplot as plt\n",
        "################################################################################\n",
        "def load_image(file_name= 'MIT_FiveK_5.dng'):\n",
        "    \"\"\"\n",
        "    \"\"\"\n",
        "\n",
        "    with rawpy.imread(file_name) as raw:\n",
        "\n",
        "        bl = raw.black_level_per_channel\n",
        "        print(\"Black Level per channel:\", bl)\n",
        "        pattern = raw.raw_pattern\n",
        "        bayer_img = raw.raw_image_visible\n",
        "        rgb_image= raw.postprocess()\n",
        "\n",
        "        color_map = {0: 'R', 1: 'G', 2: 'B', 3: 'G'}\n",
        "        named_pattern = np.vectorize(color_map.get)(pattern)\n",
        "        print(named_pattern)\n",
        "\n",
        "        # Convert embedded thumbnail to NumPy array\n",
        "        thumbnail = raw.extract_thumb()\n",
        "        print(thumbnail.format) # we this later\n",
        "        if thumbnail.format == rawpy.ThumbFormat.JPEG:\n",
        "            img = Image.open(io.BytesIO(thumbnail.data))\n",
        "            thumbnail_np = np.array(img.convert(\"L\"))  # convert to grayscale\n",
        "        elif thumbnail.format == rawpy.ThumbFormat.BITMAP:\n",
        "            thumbnail_np = np.array(thumbnail.data)\n",
        "        else:\n",
        "            raise ValueError(\"Unknown thumbnail format\")\n",
        "\n",
        "    return bayer_img.astype(np.uint16), bl, thumbnail_np\n",
        "\n",
        "################################################################################\n",
        "def BLC_RGGB(image,bl):\n",
        "    bl_r, bl_gr, bl_gb, bl_b = bl\n",
        "\n",
        "    H, W = image.shape\n",
        "    print(H, W)\n",
        "\n",
        "    corrected = image.astype(np.int32)\n",
        "    corrected[0::2, 0::2] -= bl_r   # R\n",
        "    corrected[0::2, 1::2] -= bl_gr  # Gr\n",
        "    corrected[1::2, 0::2] -= bl_gb  # Gb\n",
        "    corrected[1::2, 1::2] -= bl_b   # B\n",
        "\n",
        "    BLC_image = np.clip(corrected, 0, None).astype(np.uint16)\n",
        "    return BLC_image"
      ],
      "metadata": {
        "id": "GYKp7_AJ3-wo"
      },
      "execution_count": null,
      "outputs": []
    },
    {
      "cell_type": "code",
      "source": [
        "import cv2\n",
        "\n",
        "bayer_img, bl, thumbnail_np = load_image(file_name= 'MIT_FiveK_5.dng')\n",
        "\n",
        "BLC_image = BLC_RGGB(bayer_img,bl)\n",
        "\n",
        "BLC_image_rotated = cv2.rotate(BLC_image, cv2.ROTATE_90_COUNTERCLOCKWISE)\n",
        "bayer_img_rotated= cv2.rotate(bayer_img, cv2.ROTATE_90_COUNTERCLOCKWISE)\n",
        "\n",
        "fig, axes = plt.subplots(1,2,figsize=(7, 5))\n",
        "axes[0].imshow(bayer_img_rotated, cmap='gray')\n",
        "axes[0].set_title('Bayer Image')\n",
        "axes[0].axis('off')\n",
        "axes[1].imshow(BLC_image_rotated, cmap='gray')\n",
        "axes[1].set_title('Black Level Corrected Image')\n",
        "axes[1].axis('off')\n",
        "\n",
        "plt.tight_layout(pad=0)\n",
        "plt.show()\n"
      ],
      "metadata": {
        "id": "Mq2Xbrhb4nLb"
      },
      "execution_count": null,
      "outputs": []
    }
  ]
}